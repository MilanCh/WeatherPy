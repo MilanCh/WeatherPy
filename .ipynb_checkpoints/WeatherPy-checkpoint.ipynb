{
 "cells": [
  {
   "cell_type": "code",
   "execution_count": 1,
   "metadata": {
    "scrolled": true
   },
   "outputs": [],
   "source": [
    "# Dependencies and Setup\n",
    "import matplotlib.pyplot as plt\n",
    "import pandas as pd\n",
    "import numpy as np\n",
    "import requests\n",
    "import time\n",
    "\n",
    "# Import API key\n",
    "import api_keys\n",
    "\n",
    "# Incorporated citipy to determine city based on latitude and longitude\n",
    "from citipy import citipy\n",
    "\n",
    "# Output File (CSV)\n",
    "output_data_file = \"output_data/cities.csv\"\n",
    "\n",
    "# Range of latitudes and longitudes\n",
    "lat_range = (-90, 90)\n",
    "lng_range = (-180, 180)"
   ]
  },
  {
   "cell_type": "markdown",
   "metadata": {},
   "source": [
    "## Generate Cities List"
   ]
  },
  {
   "cell_type": "code",
   "execution_count": 2,
   "metadata": {},
   "outputs": [
    {
     "data": {
      "text/plain": [
       "596"
      ]
     },
     "execution_count": 2,
     "metadata": {},
     "output_type": "execute_result"
    }
   ],
   "source": [
    "# List for holding lat_lngs and cities\n",
    "lat_lngs = []\n",
    "cities = []\n",
    "\n",
    "# Create a set of random lat and lng combinations\n",
    "lats = np.random.uniform(low=-90.000, high=90.000, size=1500)\n",
    "lngs = np.random.uniform(low=-180.000, high=180.000, size=1500)\n",
    "lat_lngs = zip(lats, lngs)\n",
    "\n",
    "# Identify nearest city for each lat, lng combination\n",
    "for lat_lng in lat_lngs:\n",
    "    city = citipy.nearest_city(lat_lng[0], lat_lng[1]).city_name\n",
    "    \n",
    "    # If the city is unique, then add it to a our cities list\n",
    "    if city not in cities:\n",
    "        cities.append(city)\n",
    "\n",
    "# Print the city count to confirm sufficient count\n",
    "len(cities)\n"
   ]
  },
  {
   "cell_type": "markdown",
   "metadata": {},
   "source": [
    "## Perform API Calls"
   ]
  },
  {
   "cell_type": "code",
   "execution_count": 3,
   "metadata": {},
   "outputs": [
    {
     "data": {
      "text/plain": [
       "'http://api.openweathermap.org/data/2.5/weather?units=Imperial&APPID=b41ab2ab34731c374f6d1842b77875c2'"
      ]
     },
     "execution_count": 3,
     "metadata": {},
     "output_type": "execute_result"
    }
   ],
   "source": [
    "# * Temperature (F) vs. Latitude\n",
    "# * Humidity (%) vs. Latitude\n",
    "# * Cloudiness (%) vs. Latitude\n",
    "# * Wind Speed (mph) vs. Latitude\n",
    "\n",
    "# OpenWeatherMap API Key\n",
    "api_key = api_keys.api_key\n",
    "\n",
    "# Starting URL for Weather Map API Call\n",
    "url = \"http://api.openweathermap.org/data/2.5/weather?units=Imperial&APPID=\" + api_key\n",
    "\n",
    "url"
   ]
  },
  {
   "cell_type": "code",
   "execution_count": 4,
   "metadata": {},
   "outputs": [
    {
     "data": {
      "text/html": [
       "<div>\n",
       "<style scoped>\n",
       "    .dataframe tbody tr th:only-of-type {\n",
       "        vertical-align: middle;\n",
       "    }\n",
       "\n",
       "    .dataframe tbody tr th {\n",
       "        vertical-align: top;\n",
       "    }\n",
       "\n",
       "    .dataframe thead th {\n",
       "        text-align: right;\n",
       "    }\n",
       "</style>\n",
       "<table border=\"1\" class=\"dataframe\">\n",
       "  <thead>\n",
       "    <tr style=\"text-align: right;\">\n",
       "      <th></th>\n",
       "      <th>City</th>\n",
       "      <th>Country</th>\n",
       "      <th>Lat</th>\n",
       "      <th>Lng</th>\n",
       "      <th>Cloudiness</th>\n",
       "      <th>Humidity</th>\n",
       "      <th>Max Temp</th>\n",
       "      <th>Wind Speed</th>\n",
       "      <th>Date</th>\n",
       "    </tr>\n",
       "  </thead>\n",
       "  <tbody>\n",
       "    <tr>\n",
       "      <th>0</th>\n",
       "      <td>kapoeta</td>\n",
       "      <td></td>\n",
       "      <td></td>\n",
       "      <td></td>\n",
       "      <td></td>\n",
       "      <td></td>\n",
       "      <td></td>\n",
       "      <td></td>\n",
       "      <td></td>\n",
       "    </tr>\n",
       "    <tr>\n",
       "      <th>1</th>\n",
       "      <td>palu</td>\n",
       "      <td></td>\n",
       "      <td></td>\n",
       "      <td></td>\n",
       "      <td></td>\n",
       "      <td></td>\n",
       "      <td></td>\n",
       "      <td></td>\n",
       "      <td></td>\n",
       "    </tr>\n",
       "    <tr>\n",
       "      <th>2</th>\n",
       "      <td>norman wells</td>\n",
       "      <td></td>\n",
       "      <td></td>\n",
       "      <td></td>\n",
       "      <td></td>\n",
       "      <td></td>\n",
       "      <td></td>\n",
       "      <td></td>\n",
       "      <td></td>\n",
       "    </tr>\n",
       "    <tr>\n",
       "      <th>3</th>\n",
       "      <td>port alfred</td>\n",
       "      <td></td>\n",
       "      <td></td>\n",
       "      <td></td>\n",
       "      <td></td>\n",
       "      <td></td>\n",
       "      <td></td>\n",
       "      <td></td>\n",
       "      <td></td>\n",
       "    </tr>\n",
       "    <tr>\n",
       "      <th>4</th>\n",
       "      <td>qaanaaq</td>\n",
       "      <td></td>\n",
       "      <td></td>\n",
       "      <td></td>\n",
       "      <td></td>\n",
       "      <td></td>\n",
       "      <td></td>\n",
       "      <td></td>\n",
       "      <td></td>\n",
       "    </tr>\n",
       "  </tbody>\n",
       "</table>\n",
       "</div>"
      ],
      "text/plain": [
       "           City Country Lat Lng Cloudiness Humidity Max Temp Wind Speed Date\n",
       "0       kapoeta                                                             \n",
       "1          palu                                                             \n",
       "2  norman wells                                                             \n",
       "3   port alfred                                                             \n",
       "4       qaanaaq                                                             "
      ]
     },
     "execution_count": 4,
     "metadata": {},
     "output_type": "execute_result"
    }
   ],
   "source": [
    "cities_pd=pd.DataFrame(cities)\n",
    "cities_pd[\"City\"]=cities[0:]\n",
    "del cities_pd[0]\n",
    "cities_pd[\"Country\"] = \"\"\n",
    "cities_pd[\"Lat\"] = \"\"\n",
    "cities_pd[\"Lng\"] = \"\"\n",
    "cities_pd[\"Cloudiness\"] = \"\"\n",
    "cities_pd[\"Humidity\"] = \"\"\n",
    "cities_pd[\"Max Temp\"] = \"\"\n",
    "cities_pd[\"Wind Speed\"] = \"\"\n",
    "cities_pd[\"Date\"] = \"\"\n",
    "\n",
    "\n",
    "cities_pd.head()\n"
   ]
  },
  {
   "cell_type": "code",
   "execution_count": 5,
   "metadata": {},
   "outputs": [
    {
     "name": "stdout",
     "output_type": "stream",
     "text": [
      "Missing field... skipping.\n",
      "Missing field... skipping.\n",
      "Missing field... skipping.\n",
      "Missing field... skipping.\n",
      "Missing field... skipping.\n",
      "Missing field... skipping.\n",
      "Missing field... skipping.\n",
      "Missing field... skipping.\n",
      "Missing field... skipping.\n",
      "Missing field... skipping.\n",
      "Missing field... skipping.\n",
      "Missing field... skipping.\n",
      "Missing field... skipping.\n",
      "Missing field... skipping.\n",
      "Missing field... skipping.\n",
      "Missing field... skipping.\n",
      "Missing field... skipping.\n",
      "Missing field... skipping.\n",
      "Missing field... skipping.\n",
      "Missing field... skipping.\n",
      "Missing field... skipping.\n",
      "Missing field... skipping.\n",
      "Missing field... skipping.\n",
      "Missing field... skipping.\n",
      "Missing field... skipping.\n",
      "Missing field... skipping.\n",
      "Missing field... skipping.\n",
      "Missing field... skipping.\n",
      "Missing field... skipping.\n",
      "Missing field... skipping.\n",
      "Missing field... skipping.\n",
      "Missing field... skipping.\n",
      "Missing field... skipping.\n",
      "Missing field... skipping.\n",
      "Missing field... skipping.\n",
      "Missing field... skipping.\n",
      "Missing field... skipping.\n",
      "Missing field... skipping.\n",
      "Missing field... skipping.\n",
      "Missing field... skipping.\n",
      "Missing field... skipping.\n",
      "Missing field... skipping.\n",
      "Missing field... skipping.\n",
      "Missing field... skipping.\n",
      "Missing field... skipping.\n",
      "Missing field... skipping.\n",
      "Missing field... skipping.\n",
      "Missing field... skipping.\n",
      "Missing field... skipping.\n",
      "Missing field... skipping.\n",
      "Missing field... skipping.\n",
      "Missing field... skipping.\n",
      "Missing field... skipping.\n",
      "Missing field... skipping.\n",
      "Missing field... skipping.\n",
      "Missing field... skipping.\n",
      "Missing field... skipping.\n"
     ]
    }
   ],
   "source": [
    "\n",
    "params = {\n",
    "    \"q\": \"city\"\n",
    "}\n",
    "response = requests.get(url, params=params).json()\n",
    "\n",
    "\n",
    "# use iterrows to iterate through pandas dataframe\n",
    "for index, row in cities_pd.iterrows():\n",
    "    time.sleep(2)\n",
    "    # get city from df\n",
    "    city = row['City']\n",
    "\n",
    "    # add keyword to params dict\n",
    "    params['q'] = city\n",
    "\n",
    "    # assemble url and make API request\n",
    "#     print(f\"Retrieving Results for Index {index}: {city}.\")\n",
    "    response = requests.get(url, params=params).json()\n",
    "#     print(response['coord'])\n",
    "    # extract results   \n",
    "    try:\n",
    "        cities_pd.loc[index, 'Country'] = response['sys']['country']\n",
    "        cities_pd.loc[index, 'Lat'] = response['coord']['lat']\n",
    "        cities_pd.loc[index, 'Lng'] = response['coord']['lon']\n",
    "        cities_pd.loc[index, 'Cloudiness'] = response['clouds']['all']\n",
    "        cities_pd.loc[index, 'Humidity'] = response['main']['humidity']\n",
    "        cities_pd.loc[index, 'Max Temp'] = response['main']['temp_max']\n",
    "        cities_pd.loc[index, 'Min Temp'] = response['main']['temp_min']\n",
    "        cities_pd.loc[index, 'Date'] = response['dt']\n",
    "        cities_pd.loc[index, 'Wind Speed'] = response['wind']['speed']\n",
    "    except(KeyError, IndexError):\n",
    "        print(\"Missing field... skipping.\")\n",
    "    \n",
    "    \n",
    "\n",
    "\n",
    "        "
   ]
  },
  {
   "cell_type": "code",
   "execution_count": 6,
   "metadata": {},
   "outputs": [
    {
     "data": {
      "text/html": [
       "<div>\n",
       "<style scoped>\n",
       "    .dataframe tbody tr th:only-of-type {\n",
       "        vertical-align: middle;\n",
       "    }\n",
       "\n",
       "    .dataframe tbody tr th {\n",
       "        vertical-align: top;\n",
       "    }\n",
       "\n",
       "    .dataframe thead th {\n",
       "        text-align: right;\n",
       "    }\n",
       "</style>\n",
       "<table border=\"1\" class=\"dataframe\">\n",
       "  <thead>\n",
       "    <tr style=\"text-align: right;\">\n",
       "      <th></th>\n",
       "      <th>City</th>\n",
       "      <th>Country</th>\n",
       "      <th>Lat</th>\n",
       "      <th>Lng</th>\n",
       "      <th>Cloudiness</th>\n",
       "      <th>Humidity</th>\n",
       "      <th>Max Temp</th>\n",
       "      <th>Wind Speed</th>\n",
       "      <th>Date</th>\n",
       "      <th>Min Temp</th>\n",
       "    </tr>\n",
       "  </thead>\n",
       "  <tbody>\n",
       "    <tr>\n",
       "      <th>0</th>\n",
       "      <td>kapoeta</td>\n",
       "      <td></td>\n",
       "      <td></td>\n",
       "      <td></td>\n",
       "      <td></td>\n",
       "      <td></td>\n",
       "      <td></td>\n",
       "      <td></td>\n",
       "      <td></td>\n",
       "      <td>NaN</td>\n",
       "    </tr>\n",
       "    <tr>\n",
       "      <th>1</th>\n",
       "      <td>palu</td>\n",
       "      <td>ID</td>\n",
       "      <td>-0.9</td>\n",
       "      <td>119.87</td>\n",
       "      <td>20</td>\n",
       "      <td>71</td>\n",
       "      <td>77.46</td>\n",
       "      <td>1.28</td>\n",
       "      <td>1538019444</td>\n",
       "      <td>77.46</td>\n",
       "    </tr>\n",
       "    <tr>\n",
       "      <th>2</th>\n",
       "      <td>norman wells</td>\n",
       "      <td>CA</td>\n",
       "      <td>65.28</td>\n",
       "      <td>-126.83</td>\n",
       "      <td>75</td>\n",
       "      <td>91</td>\n",
       "      <td>32</td>\n",
       "      <td>4.7</td>\n",
       "      <td>1538017200</td>\n",
       "      <td>32.00</td>\n",
       "    </tr>\n",
       "    <tr>\n",
       "      <th>3</th>\n",
       "      <td>port alfred</td>\n",
       "      <td>ZA</td>\n",
       "      <td>-33.59</td>\n",
       "      <td>26.89</td>\n",
       "      <td>0</td>\n",
       "      <td>94</td>\n",
       "      <td>62.79</td>\n",
       "      <td>13.8</td>\n",
       "      <td>1538019448</td>\n",
       "      <td>62.79</td>\n",
       "    </tr>\n",
       "    <tr>\n",
       "      <th>4</th>\n",
       "      <td>qaanaaq</td>\n",
       "      <td>GL</td>\n",
       "      <td>77.48</td>\n",
       "      <td>-69.36</td>\n",
       "      <td>56</td>\n",
       "      <td>100</td>\n",
       "      <td>20.49</td>\n",
       "      <td>8.43</td>\n",
       "      <td>1538019450</td>\n",
       "      <td>20.49</td>\n",
       "    </tr>\n",
       "  </tbody>\n",
       "</table>\n",
       "</div>"
      ],
      "text/plain": [
       "           City Country    Lat     Lng Cloudiness Humidity Max Temp  \\\n",
       "0       kapoeta                                                       \n",
       "1          palu      ID   -0.9  119.87         20       71    77.46   \n",
       "2  norman wells      CA  65.28 -126.83         75       91       32   \n",
       "3   port alfred      ZA -33.59   26.89          0       94    62.79   \n",
       "4       qaanaaq      GL  77.48  -69.36         56      100    20.49   \n",
       "\n",
       "  Wind Speed        Date  Min Temp  \n",
       "0                              NaN  \n",
       "1       1.28  1538019444     77.46  \n",
       "2        4.7  1538017200     32.00  \n",
       "3       13.8  1538019448     62.79  \n",
       "4       8.43  1538019450     20.49  "
      ]
     },
     "execution_count": 6,
     "metadata": {},
     "output_type": "execute_result"
    }
   ],
   "source": [
    "\n",
    "cities_pd.head()\n"
   ]
  },
  {
   "cell_type": "code",
   "execution_count": 7,
   "metadata": {},
   "outputs": [
    {
     "data": {
      "text/plain": [
       "City          539\n",
       "Country       539\n",
       "Lat           539\n",
       "Lng           539\n",
       "Cloudiness    539\n",
       "Humidity      539\n",
       "Max Temp      539\n",
       "Wind Speed    539\n",
       "Date          539\n",
       "Min Temp      539\n",
       "dtype: int64"
      ]
     },
     "execution_count": 7,
     "metadata": {},
     "output_type": "execute_result"
    }
   ],
   "source": [
    "\n",
    "cities_pd = cities_pd.dropna(how='any')\n",
    "cities_pd.to_csv(\"Weather_Output.csv\")\n",
    "cities_pd.count()"
   ]
  },
  {
   "cell_type": "code",
   "execution_count": 16,
   "metadata": {},
   "outputs": [
    {
     "name": "stdout",
     "output_type": "stream",
     "text": [
      "1      City name: palu, Country name: IDis being proc...\n",
      "2      City name: norman wells, Country name: CAis be...\n",
      "3      City name: port alfred, Country name: ZAis bei...\n",
      "4      City name: qaanaaq, Country name: GLis being p...\n",
      "5      City name: albany, Country name: USis being pr...\n",
      "6      City name: firovo, Country name: RUis being pr...\n",
      "7      City name: kapaa, Country name: USis being pro...\n",
      "8      City name: thomasville, Country name: USis bei...\n",
      "9      City name: kaitangata, Country name: NZis bein...\n",
      "10     City name: rawson, Country name: ARis being pr...\n",
      "11     City name: kilindoni, Country name: TZis being...\n",
      "12     City name: butaritari, Country name: KIis bein...\n",
      "13     City name: beringovskiy, Country name: RUis be...\n",
      "14     City name: jamestown, Country name: AUis being...\n",
      "15     City name: punto fijo, Country name: VEis bein...\n",
      "17     City name: kavieng, Country name: PGis being p...\n",
      "18     City name: seymchan, Country name: RUis being ...\n",
      "19     City name: berdigestyakh, Country name: RUis b...\n",
      "20     City name: tagusao, Country name: PHis being p...\n",
      "21     City name: vaini, Country name: INis being pro...\n",
      "22     City name: ushuaia, Country name: ARis being p...\n",
      "25     City name: riyadh, Country name: SAis being pr...\n",
      "26     City name: oleksandrivka, Country name: UAis b...\n",
      "28     City name: broome, Country name: GBis being pr...\n",
      "29     City name: mataura, Country name: NZis being p...\n",
      "30     City name: buzmeyin, Country name: TMis being ...\n",
      "32     City name: moerai, Country name: PFis being pr...\n",
      "33     City name: busselton, Country name: AUis being...\n",
      "34     City name: westport, Country name: IEis being ...\n",
      "35     City name: hobart, Country name: AUis being pr...\n",
      "                             ...                        \n",
      "564    City name: ambanja, Country name: MGis being p...\n",
      "565    City name: pizarro, Country name: COis being p...\n",
      "566    City name: sioux lookout, Country name: CAis b...\n",
      "568    City name: calafell, Country name: ESis being ...\n",
      "569    City name: phuket, Country name: THis being pr...\n",
      "570    City name: cortez, Country name: USis being pr...\n",
      "571    City name: havoysund, Country name: NOis being...\n",
      "572    City name: ambon, Country name: FRis being pro...\n",
      "573    City name: coquimbo, Country name: CLis being ...\n",
      "574    City name: tiznit, Country name: MAis being pr...\n",
      "575    City name: taungdwingyi, Country name: MMis be...\n",
      "576    City name: lazaro cardenas, Country name: MXis...\n",
      "577    City name: mazurivka, Country name: UAis being...\n",
      "578    City name: berlevag, Country name: NOis being ...\n",
      "579    City name: baykit, Country name: RUis being pr...\n",
      "580    City name: wanning, Country name: ATis being p...\n",
      "581    City name: ngunguru, Country name: NZis being ...\n",
      "582    City name: barcelos, Country name: PTis being ...\n",
      "583    City name: igrim, Country name: RUis being pro...\n",
      "584    City name: bjerringbro, Country name: DKis bei...\n",
      "585    City name: esmeraldas, Country name: BRis bein...\n",
      "586    City name: bud, Country name: NOis being proce...\n",
      "587    City name: ludza, Country name: LVis being pro...\n",
      "588    City name: coolum beach, Country name: AUis be...\n",
      "589    City name: haileybury, Country name: CAis bein...\n",
      "590    City name: nioro, Country name: GMis being pro...\n",
      "592    City name: misratah, Country name: LYis being ...\n",
      "593    City name: sungairaya, Country name: IDis bein...\n",
      "594    City name: puerto baquerizo moreno, Country na...\n",
      "595    City name: la palma, Country name: COis being ...\n",
      "Length: 539, dtype: object\n"
     ]
    }
   ],
   "source": [
    "print(\"City name: \"+cities_pd[\"City\"]+\", Country name: \"+cities_pd[\"Country\"] +\"is being processed.\")"
   ]
  },
  {
   "cell_type": "code",
   "execution_count": 14,
   "metadata": {},
   "outputs": [
    {
     "data": {
      "image/png": "[encoded data removed]",
      "text/plain": [
       "<Figure size 432x288 with 1 Axes>"
      ]
     },
     "metadata": {},
     "output_type": "display_data"
    }
   ],
   "source": [
    "plt.scatter(cities_pd[\"Lat\"],cities_pd[\"Max Temp\"])\n",
    "plt.title(\"City Latitude vs. Max Temperature\")\n",
    "plt.xlabel(\"Latitude\")\n",
    "plt.ylabel(\"Max Temperature(F)\")\n",
    "plt.xlim(-80,100)\n",
    "plt.figtext(-0.1, -0.1, \"Latitude vs Temperature Plot\")\n",
    "plt.savefig(\"../../Images/MaxTemp.png\")\n",
    "plt.show()"
   ]
  },
  {
   "cell_type": "code",
   "execution_count": 10,
   "metadata": {},
   "outputs": [
    {
     "data": {
      "image/png": "[encoded data removed]",
      "text/plain": [
       "<Figure size 432x288 with 1 Axes>"
      ]
     },
     "metadata": {},
     "output_type": "display_data"
    }
   ],
   "source": [
    "plt.scatter(cities_pd[\"Lat\"],cities_pd[\"Humidity\"])\n",
    "plt.title(\"City Latitude vs. Humidity\")\n",
    "plt.xlabel(\"Latitude\")\n",
    "plt.ylabel(\"Humidity(%)\")\n",
    "plt.xlim(-80,100)\n",
    "plt.ylim(-20,120)\n",
    "plt.figtext(-0.1, -0.1, \"Latitude vs Humidity Plot\")\n",
    "plt.savefig(\"../../Images/Humidity.png\")\n",
    "plt.show()"
   ]
  },
  {
   "cell_type": "code",
   "execution_count": 11,
   "metadata": {},
   "outputs": [
    {
     "data": {
      "image/png": "[encoded data removed]",
      "text/plain": [
       "<Figure size 432x288 with 1 Axes>"
      ]
     },
     "metadata": {},
     "output_type": "display_data"
    }
   ],
   "source": [
    "plt.scatter(cities_pd[\"Lat\"],cities_pd[\"Cloudiness\"])\n",
    "plt.title(\"City Latitude vs. Cloudiness\")\n",
    "plt.xlabel(\"Latitude\")\n",
    "plt.ylabel(\"Cloudiness(%)\")\n",
    "plt.xlim(-80,100)\n",
    "plt.ylim(-20,120)\n",
    "plt.figtext(-0.1, -0.1, \"Latitude vs Cloudiness Plot\")\n",
    "plt.savefig(\"../../Images/Cloudiness.png\")\n",
    "plt.show()"
   ]
  },
  {
   "cell_type": "markdown",
   "metadata": {},
   "source": []
  },
  {
   "cell_type": "code",
   "execution_count": 12,
   "metadata": {},
   "outputs": [
    {
     "data": {
      "image/png": "[encoded data removed]",
      "text/plain": [
       "<Figure size 432x288 with 1 Axes>"
      ]
     },
     "metadata": {},
     "output_type": "display_data"
    }
   ],
   "source": [
    "plt.scatter(cities_pd[\"Lat\"],cities_pd[\"Wind Speed\"])\n",
    "plt.title(\"City Latitude vs. Wind Speed\")\n",
    "plt.xlabel(\"Latitude\")\n",
    "plt.ylabel(\"Wind Speed(mph)\")\n",
    "plt.xlim(-80,100)\n",
    "plt.ylim(-20,120)\n",
    "plt.figtext(-0.1, -0.1, \"Latitude vs Wind Speed Plot\")\n",
    "plt.savefig(\"../../Images/WindSpeed.png\")\n",
    "plt.show()"
   ]
  },
  {
   "cell_type": "code",
   "execution_count": 15,
   "metadata": {},
   "outputs": [
    {
     "name": "stdout",
     "output_type": "stream",
     "text": [
      "The closer the latitude of the city is to zero, the higher tempture it is. The further, the lower.\n",
      "No Obvious relationship between humidity, cloudiness, wind speed and latitude.\n"
     ]
    }
   ],
   "source": [
    "# Written Description\n",
    "print(\"The closer the latitude of the city is to zero, the higher tempture it is. The further, the lower.\")\n",
    "print(\"No Obvious relationship between humidity, cloudiness, wind speed and latitude.\")\n"
   ]
  },
  {
   "cell_type": "code",
   "execution_count": null,
   "metadata": {},
   "outputs": [],
   "source": []
  }
 ],
 "metadata": {
  "anaconda-cloud": {},
  "kernelspec": {
   "display_name": "Python [default]",
   "language": "python",
   "name": "python3"
  },
  "language_info": {
   "codemirror_mode": {
    "name": "ipython",
    "version": 3
   },
   "file_extension": ".py",
   "mimetype": "text/x-python",
   "name": "python",
   "nbconvert_exporter": "python",
   "pygments_lexer": "ipython3",
   "version": "3.6.5"
  }
 },
 "nbformat": 4,
 "nbformat_minor": 1
}
