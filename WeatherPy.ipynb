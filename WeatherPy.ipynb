{
 "cells": [
  {
   "cell_type": "code",
   "execution_count": 1,
   "metadata": {
    "scrolled": true
   },
   "outputs": [],
   "source": [
    "# Dependencies and Setup\n",
    "import matplotlib.pyplot as plt\n",
    "import pandas as pd\n",
    "import numpy as np\n",
    "import requests\n",
    "import time\n",
    "\n",
    "# Import API key\n",
    "import api_keys\n",
    "\n",
    "# Incorporated citipy to determine city based on latitude and longitude\n",
    "from citipy import citipy\n",
    "\n",
    "# Output File (CSV)\n",
    "output_data_file = \"output_data/cities.csv\"\n",
    "\n",
    "# Range of latitudes and longitudes\n",
    "lat_range = (-90, 90)\n",
    "lng_range = (-180, 180)"
   ]
  },
  {
   "cell_type": "markdown",
   "metadata": {},
   "source": [
    "## Generate Cities List"
   ]
  },
  {
   "cell_type": "code",
   "execution_count": 2,
   "metadata": {},
   "outputs": [
    {
     "data": {
      "text/plain": [
       "596"
      ]
     },
     "execution_count": 2,
     "metadata": {},
     "output_type": "execute_result"
    }
   ],
   "source": [
    "# List for holding lat_lngs and cities\n",
    "lat_lngs = []\n",
    "cities = []\n",
    "\n",
    "# Create a set of random lat and lng combinations\n",
    "lats = np.random.uniform(low=-90.000, high=90.000, size=1500)\n",
    "lngs = np.random.uniform(low=-180.000, high=180.000, size=1500)\n",
    "lat_lngs = zip(lats, lngs)\n",
    "\n",
    "# Identify nearest city for each lat, lng combination\n",
    "for lat_lng in lat_lngs:\n",
    "    city = citipy.nearest_city(lat_lng[0], lat_lng[1]).city_name\n",
    "    \n",
    "    # If the city is unique, then add it to a our cities list\n",
    "    if city not in cities:\n",
    "        cities.append(city)\n",
    "\n",
    "# Print the city count to confirm sufficient count\n",
    "len(cities)\n"
   ]
  },
  {
   "cell_type": "markdown",
   "metadata": {},
   "source": [
    "## Perform API Calls"
   ]
  },
  {
   "cell_type": "code",
   "execution_count": 3,
   "metadata": {},
   "outputs": [
    {
     "data": {
      "text/plain": [
       "'http://api.openweathermap.org/data/2.5/weather?units=Imperial&APPID=b41ab2ab34731c374f6d1842b77875c2'"
      ]
     },
     "execution_count": 3,
     "metadata": {},
     "output_type": "execute_result"
    }
   ],
   "source": [
    "# * Temperature (F) vs. Latitude\n",
    "# * Humidity (%) vs. Latitude\n",
    "# * Cloudiness (%) vs. Latitude\n",
    "# * Wind Speed (mph) vs. Latitude\n",
    "\n",
    "# OpenWeatherMap API Key\n",
    "api_key = api_keys.api_key\n",
    "\n",
    "# Starting URL for Weather Map API Call\n",
    "url = \"http://api.openweathermap.org/data/2.5/weather?units=Imperial&APPID=\" + api_key\n",
    "\n",
    "url"
   ]
  },
  {
   "cell_type": "code",
   "execution_count": 4,
   "metadata": {},
   "outputs": [
    {
     "data": {
      "text/html": [
       "<div>\n",
       "<style scoped>\n",
       "    .dataframe tbody tr th:only-of-type {\n",
       "        vertical-align: middle;\n",
       "    }\n",
       "\n",
       "    .dataframe tbody tr th {\n",
       "        vertical-align: top;\n",
       "    }\n",
       "\n",
       "    .dataframe thead th {\n",
       "        text-align: right;\n",
       "    }\n",
       "</style>\n",
       "<table border=\"1\" class=\"dataframe\">\n",
       "  <thead>\n",
       "    <tr style=\"text-align: right;\">\n",
       "      <th></th>\n",
       "      <th>City</th>\n",
       "      <th>Country</th>\n",
       "      <th>Lat</th>\n",
       "      <th>Lng</th>\n",
       "      <th>Cloudiness</th>\n",
       "      <th>Humidity</th>\n",
       "      <th>Max Temp</th>\n",
       "      <th>Wind Speed</th>\n",
       "      <th>Date</th>\n",
       "    </tr>\n",
       "  </thead>\n",
       "  <tbody>\n",
       "    <tr>\n",
       "      <th>0</th>\n",
       "      <td>makakilo city</td>\n",
       "      <td></td>\n",
       "      <td></td>\n",
       "      <td></td>\n",
       "      <td></td>\n",
       "      <td></td>\n",
       "      <td></td>\n",
       "      <td></td>\n",
       "      <td></td>\n",
       "    </tr>\n",
       "    <tr>\n",
       "      <th>1</th>\n",
       "      <td>ribeira grande</td>\n",
       "      <td></td>\n",
       "      <td></td>\n",
       "      <td></td>\n",
       "      <td></td>\n",
       "      <td></td>\n",
       "      <td></td>\n",
       "      <td></td>\n",
       "      <td></td>\n",
       "    </tr>\n",
       "    <tr>\n",
       "      <th>2</th>\n",
       "      <td>maceio</td>\n",
       "      <td></td>\n",
       "      <td></td>\n",
       "      <td></td>\n",
       "      <td></td>\n",
       "      <td></td>\n",
       "      <td></td>\n",
       "      <td></td>\n",
       "      <td></td>\n",
       "    </tr>\n",
       "    <tr>\n",
       "      <th>3</th>\n",
       "      <td>bengkulu</td>\n",
       "      <td></td>\n",
       "      <td></td>\n",
       "      <td></td>\n",
       "      <td></td>\n",
       "      <td></td>\n",
       "      <td></td>\n",
       "      <td></td>\n",
       "      <td></td>\n",
       "    </tr>\n",
       "    <tr>\n",
       "      <th>4</th>\n",
       "      <td>barentsburg</td>\n",
       "      <td></td>\n",
       "      <td></td>\n",
       "      <td></td>\n",
       "      <td></td>\n",
       "      <td></td>\n",
       "      <td></td>\n",
       "      <td></td>\n",
       "      <td></td>\n",
       "    </tr>\n",
       "  </tbody>\n",
       "</table>\n",
       "</div>"
      ],
      "text/plain": [
       "             City Country Lat Lng Cloudiness Humidity Max Temp Wind Speed Date\n",
       "0   makakilo city                                                             \n",
       "1  ribeira grande                                                             \n",
       "2          maceio                                                             \n",
       "3        bengkulu                                                             \n",
       "4     barentsburg                                                             "
      ]
     },
     "execution_count": 4,
     "metadata": {},
     "output_type": "execute_result"
    }
   ],
   "source": [
    "cities_pd=pd.DataFrame(cities)\n",
    "cities_pd[\"City\"]=cities[0:]\n",
    "del cities_pd[0]\n",
    "cities_pd[\"Country\"] = \"\"\n",
    "cities_pd[\"Lat\"] = \"\"\n",
    "cities_pd[\"Lng\"] = \"\"\n",
    "cities_pd[\"Cloudiness\"] = \"\"\n",
    "cities_pd[\"Humidity\"] = \"\"\n",
    "cities_pd[\"Max Temp\"] = \"\"\n",
    "cities_pd[\"Wind Speed\"] = \"\"\n",
    "cities_pd[\"Date\"] = \"\"\n",
    "\n",
    "\n",
    "cities_pd.head()\n"
   ]
  },
  {
   "cell_type": "code",
   "execution_count": 5,
   "metadata": {},
   "outputs": [
    {
     "name": "stdout",
     "output_type": "stream",
     "text": [
      "Missing field... skipping.\n",
      "Missing field... skipping.\n",
      "Missing field... skipping.\n",
      "Missing field... skipping.\n",
      "Missing field... skipping.\n",
      "Missing field... skipping.\n",
      "Missing field... skipping.\n",
      "Missing field... skipping.\n",
      "Missing field... skipping.\n",
      "Missing field... skipping.\n",
      "Missing field... skipping.\n",
      "Missing field... skipping.\n",
      "Missing field... skipping.\n",
      "Missing field... skipping.\n",
      "Missing field... skipping.\n",
      "Missing field... skipping.\n",
      "Missing field... skipping.\n",
      "Missing field... skipping.\n",
      "Missing field... skipping.\n",
      "Missing field... skipping.\n",
      "Missing field... skipping.\n",
      "Missing field... skipping.\n",
      "Missing field... skipping.\n",
      "Missing field... skipping.\n",
      "Missing field... skipping.\n",
      "Missing field... skipping.\n",
      "Missing field... skipping.\n",
      "Missing field... skipping.\n",
      "Missing field... skipping.\n",
      "Missing field... skipping.\n",
      "Missing field... skipping.\n",
      "Missing field... skipping.\n",
      "Missing field... skipping.\n",
      "Missing field... skipping.\n",
      "Missing field... skipping.\n",
      "Missing field... skipping.\n",
      "Missing field... skipping.\n",
      "Missing field... skipping.\n",
      "Missing field... skipping.\n",
      "Missing field... skipping.\n",
      "Missing field... skipping.\n",
      "Missing field... skipping.\n",
      "Missing field... skipping.\n",
      "Missing field... skipping.\n",
      "Missing field... skipping.\n",
      "Missing field... skipping.\n",
      "Missing field... skipping.\n",
      "Missing field... skipping.\n",
      "Missing field... skipping.\n",
      "Missing field... skipping.\n",
      "Missing field... skipping.\n",
      "Missing field... skipping.\n",
      "Missing field... skipping.\n",
      "Missing field... skipping.\n",
      "Missing field... skipping.\n",
      "Missing field... skipping.\n",
      "Missing field... skipping.\n",
      "Missing field... skipping.\n",
      "Missing field... skipping.\n",
      "Missing field... skipping.\n",
      "Missing field... skipping.\n",
      "Missing field... skipping.\n",
      "Missing field... skipping.\n",
      "Missing field... skipping.\n",
      "Missing field... skipping.\n",
      "Missing field... skipping.\n",
      "Missing field... skipping.\n",
      "Missing field... skipping.\n",
      "Missing field... skipping.\n",
      "Missing field... skipping.\n",
      "Missing field... skipping.\n",
      "Missing field... skipping.\n",
      "Missing field... skipping.\n",
      "Missing field... skipping.\n",
      "Missing field... skipping.\n",
      "Missing field... skipping.\n",
      "Missing field... skipping.\n",
      "Missing field... skipping.\n",
      "Missing field... skipping.\n",
      "Missing field... skipping.\n",
      "Missing field... skipping.\n",
      "Missing field... skipping.\n",
      "Missing field... skipping.\n",
      "Missing field... skipping.\n",
      "Missing field... skipping.\n",
      "Missing field... skipping.\n",
      "Missing field... skipping.\n",
      "Missing field... skipping.\n",
      "Missing field... skipping.\n",
      "Missing field... skipping.\n",
      "Missing field... skipping.\n",
      "Missing field... skipping.\n",
      "Missing field... skipping.\n",
      "Missing field... skipping.\n",
      "Missing field... skipping.\n",
      "Missing field... skipping.\n",
      "Missing field... skipping.\n",
      "Missing field... skipping.\n",
      "Missing field... skipping.\n",
      "Missing field... skipping.\n",
      "Missing field... skipping.\n",
      "Missing field... skipping.\n",
      "Missing field... skipping.\n",
      "Missing field... skipping.\n",
      "Missing field... skipping.\n",
      "Missing field... skipping.\n",
      "Missing field... skipping.\n",
      "Missing field... skipping.\n",
      "Missing field... skipping.\n",
      "Missing field... skipping.\n",
      "Missing field... skipping.\n",
      "Missing field... skipping.\n",
      "Missing field... skipping.\n",
      "Missing field... skipping.\n",
      "Missing field... skipping.\n",
      "Missing field... skipping.\n",
      "Missing field... skipping.\n",
      "Missing field... skipping.\n",
      "Missing field... skipping.\n",
      "Missing field... skipping.\n",
      "Missing field... skipping.\n",
      "Missing field... skipping.\n",
      "Missing field... skipping.\n",
      "Missing field... skipping.\n",
      "Missing field... skipping.\n",
      "Missing field... skipping.\n",
      "Missing field... skipping.\n"
     ]
    }
   ],
   "source": [
    "\n",
    "params = {\n",
    "    \"q\": \"city\"\n",
    "}\n",
    "response = requests.get(url, params=params).json()\n",
    "\n",
    "\n",
    "# use iterrows to iterate through pandas dataframe\n",
    "for index, row in cities_pd.iterrows():\n",
    "    time.sleep(2)\n",
    "    # get city from df\n",
    "    city = row['City']\n",
    "\n",
    "    # add keyword to params dict\n",
    "    params['q'] = city\n",
    "\n",
    "    # assemble url and make API request\n",
    "#     print(f\"Retrieving Results for Index {index}: {city}.\")\n",
    "    response = requests.get(url, params=params).json()\n",
    "#     print(response['coord'])\n",
    "    # extract results   \n",
    "    try:\n",
    "        cities_pd.loc[index, 'Country'] = response['sys']['country']\n",
    "        cities_pd.loc[index, 'Lat'] = response['coord']['lat']\n",
    "        cities_pd.loc[index, 'Lng'] = response['coord']['lon']\n",
    "        cities_pd.loc[index, 'Cloudiness'] = response['clouds']['all']\n",
    "        cities_pd.loc[index, 'Humidity'] = response['main']['humidity']\n",
    "        cities_pd.loc[index, 'Max Temp'] = response['main']['temp_max']\n",
    "        cities_pd.loc[index, 'Min Temp'] = response['main']['temp_min']\n",
    "        cities_pd.loc[index, 'Date'] = response['dt']\n",
    "        cities_pd.loc[index, 'Wind Speed'] = response['wind']['speed']\n",
    "    except(KeyError, IndexError):\n",
    "        print(\"Missing field... skipping.\")\n",
    "    \n",
    "    \n",
    "\n",
    "\n",
    "        "
   ]
  },
  {
   "cell_type": "code",
   "execution_count": 6,
   "metadata": {},
   "outputs": [
    {
     "data": {
      "text/html": [
       "<div>\n",
       "<style scoped>\n",
       "    .dataframe tbody tr th:only-of-type {\n",
       "        vertical-align: middle;\n",
       "    }\n",
       "\n",
       "    .dataframe tbody tr th {\n",
       "        vertical-align: top;\n",
       "    }\n",
       "\n",
       "    .dataframe thead th {\n",
       "        text-align: right;\n",
       "    }\n",
       "</style>\n",
       "<table border=\"1\" class=\"dataframe\">\n",
       "  <thead>\n",
       "    <tr style=\"text-align: right;\">\n",
       "      <th></th>\n",
       "      <th>City</th>\n",
       "      <th>Country</th>\n",
       "      <th>Lat</th>\n",
       "      <th>Lng</th>\n",
       "      <th>Cloudiness</th>\n",
       "      <th>Humidity</th>\n",
       "      <th>Max Temp</th>\n",
       "      <th>Wind Speed</th>\n",
       "      <th>Date</th>\n",
       "      <th>Min Temp</th>\n",
       "    </tr>\n",
       "  </thead>\n",
       "  <tbody>\n",
       "    <tr>\n",
       "      <th>0</th>\n",
       "      <td>makakilo city</td>\n",
       "      <td></td>\n",
       "      <td></td>\n",
       "      <td></td>\n",
       "      <td></td>\n",
       "      <td></td>\n",
       "      <td></td>\n",
       "      <td></td>\n",
       "      <td></td>\n",
       "      <td>NaN</td>\n",
       "    </tr>\n",
       "    <tr>\n",
       "      <th>1</th>\n",
       "      <td>ribeira grande</td>\n",
       "      <td></td>\n",
       "      <td></td>\n",
       "      <td></td>\n",
       "      <td></td>\n",
       "      <td></td>\n",
       "      <td></td>\n",
       "      <td></td>\n",
       "      <td></td>\n",
       "      <td>NaN</td>\n",
       "    </tr>\n",
       "    <tr>\n",
       "      <th>2</th>\n",
       "      <td>maceio</td>\n",
       "      <td></td>\n",
       "      <td></td>\n",
       "      <td></td>\n",
       "      <td></td>\n",
       "      <td></td>\n",
       "      <td></td>\n",
       "      <td></td>\n",
       "      <td></td>\n",
       "      <td>NaN</td>\n",
       "    </tr>\n",
       "    <tr>\n",
       "      <th>3</th>\n",
       "      <td>bengkulu</td>\n",
       "      <td></td>\n",
       "      <td></td>\n",
       "      <td></td>\n",
       "      <td></td>\n",
       "      <td></td>\n",
       "      <td></td>\n",
       "      <td></td>\n",
       "      <td></td>\n",
       "      <td>NaN</td>\n",
       "    </tr>\n",
       "    <tr>\n",
       "      <th>4</th>\n",
       "      <td>barentsburg</td>\n",
       "      <td></td>\n",
       "      <td></td>\n",
       "      <td></td>\n",
       "      <td></td>\n",
       "      <td></td>\n",
       "      <td></td>\n",
       "      <td></td>\n",
       "      <td></td>\n",
       "      <td>NaN</td>\n",
       "    </tr>\n",
       "  </tbody>\n",
       "</table>\n",
       "</div>"
      ],
      "text/plain": [
       "             City Country Lat Lng Cloudiness Humidity Max Temp Wind Speed  \\\n",
       "0   makakilo city                                                           \n",
       "1  ribeira grande                                                           \n",
       "2          maceio                                                           \n",
       "3        bengkulu                                                           \n",
       "4     barentsburg                                                           \n",
       "\n",
       "  Date  Min Temp  \n",
       "0            NaN  \n",
       "1            NaN  \n",
       "2            NaN  \n",
       "3            NaN  \n",
       "4            NaN  "
      ]
     },
     "execution_count": 6,
     "metadata": {},
     "output_type": "execute_result"
    }
   ],
   "source": [
    "\n",
    "cities_pd.head()\n"
   ]
  },
  {
   "cell_type": "code",
   "execution_count": 7,
   "metadata": {},
   "outputs": [
    {
     "data": {
      "text/plain": [
       "City          469\n",
       "Country       469\n",
       "Lat           469\n",
       "Lng           469\n",
       "Cloudiness    469\n",
       "Humidity      469\n",
       "Max Temp      469\n",
       "Wind Speed    469\n",
       "Date          469\n",
       "Min Temp      469\n",
       "dtype: int64"
      ]
     },
     "execution_count": 7,
     "metadata": {},
     "output_type": "execute_result"
    }
   ],
   "source": [
    "\n",
    "cities_pd = cities_pd.dropna(how='any')\n",
    "cities_pd.to_csv(\"Weather_Output.csv\")\n",
    "cities_pd.count()"
   ]
  },
  {
   "cell_type": "code",
   "execution_count": 8,
   "metadata": {},
   "outputs": [
    {
     "data": {
      "image/png": "[encoded data removed]",
      "text/plain": [
       "<Figure size 432x288 with 1 Axes>"
      ]
     },
     "metadata": {
      "needs_background": "light"
     },
     "output_type": "display_data"
    }
   ],
   "source": [
    "plt.scatter(cities_pd[\"Lat\"],cities_pd[\"Max Temp\"])\n",
    "plt.title(\"City Latitude vs. Max Temperature\")\n",
    "plt.xlabel(\"Latitude\")\n",
    "plt.ylabel(\"Max Temperature(F)\")\n",
    "plt.xlim(-80,100)\n",
    "plt.figtext(-0.1, -0.1, \"Latitude vs Temperature Plot\")\n",
    "\n",
    "plt.show()"
   ]
  },
  {
   "cell_type": "code",
   "execution_count": 9,
   "metadata": {},
   "outputs": [
    {
     "data": {
      "image/png": "[encoded data removed]",
      "text/plain": [
       "<Figure size 432x288 with 1 Axes>"
      ]
     },
     "metadata": {
      "needs_background": "light"
     },
     "output_type": "display_data"
    }
   ],
   "source": [
    "plt.scatter(cities_pd[\"Lat\"],cities_pd[\"Humidity\"])\n",
    "plt.title(\"City Latitude vs. Humidity\")\n",
    "plt.xlabel(\"Latitude\")\n",
    "plt.ylabel(\"Humidity(%)\")\n",
    "plt.xlim(-80,100)\n",
    "plt.ylim(-20,120)\n",
    "plt.figtext(-0.1, -0.1, \"Latitude vs Humidity Plot\")\n",
    "plt.show()"
   ]
  },
  {
   "cell_type": "code",
   "execution_count": 10,
   "metadata": {},
   "outputs": [
    {
     "data": {
      "image/png": "[encoded data removed]",
      "text/plain": [
       "<Figure size 432x288 with 1 Axes>"
      ]
     },
     "metadata": {
      "needs_background": "light"
     },
     "output_type": "display_data"
    }
   ],
   "source": [
    "plt.scatter(cities_pd[\"Lat\"],cities_pd[\"Cloudiness\"])\n",
    "plt.title(\"City Latitude vs. Cloudiness\")\n",
    "plt.xlabel(\"Latitude\")\n",
    "plt.ylabel(\"Cloudiness(%)\")\n",
    "plt.xlim(-80,100)\n",
    "plt.ylim(-20,120)\n",
    "plt.figtext(-0.1, -0.1, \"Latitude vs Cloudiness Plot\")\n",
    "plt.show()"
   ]
  },
  {
   "cell_type": "markdown",
   "metadata": {},
   "source": []
  },
  {
   "cell_type": "code",
   "execution_count": 11,
   "metadata": {},
   "outputs": [
    {
     "data": {
      "image/png": "[encoded data removed]",
      "text/plain": [
       "<Figure size 432x288 with 1 Axes>"
      ]
     },
     "metadata": {
      "needs_background": "light"
     },
     "output_type": "display_data"
    }
   ],
   "source": [
    "plt.scatter(cities_pd[\"Lat\"],cities_pd[\"Wind Speed\"])\n",
    "plt.title(\"City Latitude vs. Wind Speed\")\n",
    "plt.xlabel(\"Latitude\")\n",
    "plt.ylabel(\"Wind Speed(mph)\")\n",
    "plt.xlim(-80,100)\n",
    "plt.ylim(-20,120)\n",
    "plt.figtext(-0.1, -0.1, \"Latitude vs Wind Speed Plot\")\n",
    "plt.show()"
   ]
  },
  {
   "cell_type": "code",
   "execution_count": null,
   "metadata": {},
   "outputs": [],
   "source": []
  }
 ],
 "metadata": {
  "anaconda-cloud": {},
  "kernelspec": {
   "display_name": "Python 3",
   "language": "python",
   "name": "python3"
  },
  "language_info": {
   "codemirror_mode": {
    "name": "ipython",
    "version": 3
   },
   "file_extension": ".py",
   "mimetype": "text/x-python",
   "name": "python",
   "nbconvert_exporter": "python",
   "pygments_lexer": "ipython3",
   "version": "3.7.0"
  }
 },
 "nbformat": 4,
 "nbformat_minor": 1
}
